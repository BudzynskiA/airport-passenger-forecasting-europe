{
 "cells": [
  {
   "cell_type": "code",
   "execution_count": 8,
   "id": "142cf7a3-d6b7-4991-8c84-40e91f7d5ba4",
   "metadata": {},
   "outputs": [],
   "source": [
    "import pandas as pd\n",
    "\n",
    "# Wczytanie danych\n",
    "df = pd.read_excel(\"TABELA DANYCH 1.xlsx\", sheet_name=\"Arkusz1\")\n",
    "\n",
    "# Usunięcie kolumn pomocniczych (np. indeksów Excela)\n",
    "df = df.loc[:, ~df.columns.str.contains('^Unnamed')]\n",
    "\n",
    "# Usunięcie całkowicie pustych wierszy\n",
    "df = df.dropna(how='all')\n",
    "\n",
    "# Usunięcie wierszy bez podstawowych danych\n",
    "df = df.dropna(subset=['ROK', 'lotnisko'])\n",
    "\n",
    "# Zamiana średników na wartości brakujące\n",
    "df = df.replace(\";\", pd.NA)\n",
    "\n",
    "# Konwersja tekstu do wartości liczbowych, jeśli możliwe\n",
    "for col in df.select_dtypes(include='object').columns:\n",
    "    df[col] = pd.to_numeric(df[col], errors='coerce').combine_first(df[col])\n",
    "\n",
    "# Mapowanie nazw kolumn na krótsze aliasy\n",
    "short_names = {\n",
    "    'kraj': 'kraj',\n",
    "    'lotnisko': 'lotnisko',\n",
    "    'ROK': 'rok',\n",
    "    'Air passenger transport by type of schedule, transport coverage and main airports': 'pax',\n",
    "    'ilość portów lotniczych w promieniu 300 kilometrów': 'lotniska_300km',\n",
    "    'Flota samolotów komercyjnych według kategorii samolotów i kraju operatora': 'flota_komercyjna',\n",
    "    'Pasy startowe na lotnisku': 'pasy_startowe',\n",
    "    'Bramy pasażerskie': 'bramki',\n",
    "    'obiekty do odprawy': 'odprawy',\n",
    "    'długość autostrad (w km)': 'autostrady_km',\n",
    "    'długość torów kolejowych poprzez elektryfikację torów (w km)': 'kolej_elektr_km',\n",
    "    'Ofiary wypadków lotniczych w komercyjnym transporcie lotniczym, według kraju zdarzenia i kraju rejestracji statku powietrznego': 'ofiary_lotnicze',\n",
    "    'Osoby uczestniczące w turystyce w celach osobistych według czasu pobytu i miejsca docelowego (1 lub wiecej nocy, wszystkie kraje świata)': 'turystyka',\n",
    "    'dostęp kraju do morza': 'dostep_morze_kraj',\n",
    "    'dostęp miasta w którym znajduje się lotnisko do morza': 'dostep_morze_miasto',\n",
    "    'ilosc głównych  lotnisk w kraju': 'lotniska_kraj',\n",
    "    'PKB na mieszkańca w PPS': 'pkb_pps',\n",
    "    'reallny PKB eur na mieszkańca': 'pkb_realny',\n",
    "    'powierzchnia kraju km²': 'powierzchnia_km2'\n",
    "}\n",
    "df = df.rename(columns=short_names)\n",
    "\n",
    "# Reset indeksu\n",
    "df = df.reset_index(drop=True)\n",
    "\n",
    "# Zapis do nowego pliku Excel\n",
    "df.to_excel(\"oczyszczone_dane_lotniska.xlsx\", index=False)"
   ]
  },
  {
   "cell_type": "code",
   "execution_count": null,
   "id": "11c68a5b-72d3-4291-bf1d-0c99c2f73f9b",
   "metadata": {},
   "outputs": [],
   "source": []
  }
 ],
 "metadata": {
  "kernelspec": {
   "display_name": "Python [conda env:base] *",
   "language": "python",
   "name": "conda-base-py"
  },
  "language_info": {
   "codemirror_mode": {
    "name": "ipython",
    "version": 3
   },
   "file_extension": ".py",
   "mimetype": "text/x-python",
   "name": "python",
   "nbconvert_exporter": "python",
   "pygments_lexer": "ipython3",
   "version": "3.12.7"
  }
 },
 "nbformat": 4,
 "nbformat_minor": 5
}
